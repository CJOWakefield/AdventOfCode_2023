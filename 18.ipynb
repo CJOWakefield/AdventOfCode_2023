{
 "cells": [
  {
   "cell_type": "code",
   "execution_count": 52,
   "id": "a3a9e018-a8a0-4fdc-a0d4-5f1a9341169c",
   "metadata": {},
   "outputs": [
    {
     "name": "stdout",
     "output_type": "stream",
     "text": [
      "Part 1: 46334\n",
      "Part 2: 102000662718092\n"
     ]
    }
   ],
   "source": [
    "instructions = [row.split() for row in open('18.txt').read().split('\\n')]\n",
    "\n",
    "direction_map = {'R': (1,0), 'D': (0,1), 'L': (-1,0), 'U': (0,-1),\n",
    "                 '0': (1,0), '1': (0,1), '2': (-1,0), '3': (0,-1)}\n",
    "\n",
    "def area(steps, pos=0, ans=1):\n",
    "    for (x,y), n in steps:\n",
    "        pos += x*n\n",
    "        ans += y*n * pos + n/2\n",
    "\n",
    "    return int(ans)\n",
    "\n",
    "print(f'Part 1: {area((direction_map[dir],    int(steps))          for dir,steps,_ in instructions)}')\n",
    "\n",
    "print(f'Part 2: {area((direction_map[colour[7]], int(colour[2:7], 16)) for _,_,colour in instructions)}')"
   ]
  },
  {
   "cell_type": "code",
   "execution_count": null,
   "id": "d0d2b686-f163-4a11-8b3a-a703c3c12ba4",
   "metadata": {},
   "outputs": [],
   "source": []
  }
 ],
 "metadata": {
  "kernelspec": {
   "display_name": "Python 3 (ipykernel)",
   "language": "python",
   "name": "python3"
  },
  "language_info": {
   "codemirror_mode": {
    "name": "ipython",
    "version": 3
   },
   "file_extension": ".py",
   "mimetype": "text/x-python",
   "name": "python",
   "nbconvert_exporter": "python",
   "pygments_lexer": "ipython3",
   "version": "3.10.6"
  }
 },
 "nbformat": 4,
 "nbformat_minor": 5
}
