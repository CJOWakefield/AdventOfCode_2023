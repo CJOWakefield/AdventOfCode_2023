{
 "cells": [
  {
   "cell_type": "code",
   "execution_count": 1,
   "id": "5a938ad1-e42c-4c74-b08d-6bd571b321f5",
   "metadata": {},
   "outputs": [
    {
     "name": "stdout",
     "output_type": "stream",
     "text": [
      "3858\n"
     ]
    }
   ],
   "source": [
    "\n",
    "data = open('21.txt').read().split('\\n')\n",
    "\n",
    "def display(space, frontier):\n",
    "    txt = ''\n",
    "    for j in range(h):\n",
    "        for i in range(w):\n",
    "            if complex(i,j) not in frontier:\n",
    "                txt += space[complex(i,j)]\n",
    "            else:\n",
    "                txt += 'O'\n",
    "        txt+='\\n'\n",
    "    print(txt)\n",
    "    \n",
    "w, h = len(data[0]), len(data)\n",
    "deltas = [1 + 0j, -1 + 0j, 0 + 1j, 0 - 1j]\n",
    "steps = 64\n",
    "space = {}\n",
    "done = set()\n",
    "\n",
    "for j in range(h):\n",
    "    for i in range(w):\n",
    "        space[complex(i,j)] = data[j][i]\n",
    "        if data[j][i] == 'S':\n",
    "            start = complex(i,j)\n",
    "            space[complex(i,j)] = '.'\n",
    "        \n",
    "def neighs(z):    \n",
    "    nexts = [z+d for d in deltas if z+d in space and space[z + d] != '#']\n",
    "    for w in nexts:\n",
    "        done.add(w)        \n",
    "    return nexts\n",
    "\n",
    "cur = start\n",
    "done.add(cur)\n",
    "frontier = [cur]\n",
    "\n",
    "for r in range(1, steps + 1):\n",
    "    newfront =[]\n",
    "    while len(frontier) > 0:\n",
    "        n = frontier.pop()\n",
    "        newfront += [z for z in neighs(n) if z not in newfront]\n",
    "    if len(newfront) == 0:\n",
    "        break\n",
    "    else:\n",
    "        frontier = newfront.copy()  \n",
    "        \n",
    "print(len(frontier))"
   ]
  },
  {
   "cell_type": "code",
   "execution_count": null,
   "id": "c9e9125e-9e80-4352-9500-0527db99ad7a",
   "metadata": {},
   "outputs": [],
   "source": []
  }
 ],
 "metadata": {
  "kernelspec": {
   "display_name": "Python 3 (ipykernel)",
   "language": "python",
   "name": "python3"
  },
  "language_info": {
   "codemirror_mode": {
    "name": "ipython",
    "version": 3
   },
   "file_extension": ".py",
   "mimetype": "text/x-python",
   "name": "python",
   "nbconvert_exporter": "python",
   "pygments_lexer": "ipython3",
   "version": "3.10.6"
  }
 },
 "nbformat": 4,
 "nbformat_minor": 5
}
