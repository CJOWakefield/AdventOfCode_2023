{
 "cells": [
  {
   "cell_type": "code",
   "execution_count": 5,
   "id": "c1bfd863-8ec2-463f-9e05-ef097160e77c",
   "metadata": {},
   "outputs": [],
   "source": [
    "input = ['Time:        35     69     68     87',\n",
    "         'Distance:   213   1168   1086   1248']\n",
    "\n",
    "cleaned_input = [row.split()[1:] for row in input]"
   ]
  },
  {
   "cell_type": "code",
   "execution_count": 14,
   "id": "688eb581-3df2-4c0c-ad6f-28909cb0fb18",
   "metadata": {},
   "outputs": [
    {
     "data": {
      "text/plain": [
       "170000"
      ]
     },
     "execution_count": 14,
     "metadata": {},
     "output_type": "execute_result"
    }
   ],
   "source": [
    "potential_options = []\n",
    "\n",
    "for time_i, time in enumerate(cleaned_input[0]):\n",
    "    curr_record = int(cleaned_input[1][time_i])\n",
    "    record_beating_hold_times = []\n",
    "    for i in range(int(time)):\n",
    "        distance = (int(time) - i) * i\n",
    "        if distance > curr_record:\n",
    "            record_beating_hold_times.append(i)\n",
    "    potential_options.append(len(record_beating_hold_times))\n",
    "\n",
    "result = 1\n",
    "for options in potential_options:\n",
    "    result *= options\n",
    "\n",
    "result"
   ]
  },
  {
   "cell_type": "markdown",
   "id": "f95f6f47-8625-45e7-92f2-6868bc211d53",
   "metadata": {},
   "source": [
    "# Part 2"
   ]
  },
  {
   "cell_type": "code",
   "execution_count": 28,
   "id": "33445ec0-5143-4fc3-af25-5a83b5865c5e",
   "metadata": {},
   "outputs": [
    {
     "data": {
      "text/plain": [
       "20537782"
      ]
     },
     "execution_count": 28,
     "metadata": {},
     "output_type": "execute_result"
    }
   ],
   "source": [
    "cleaned_input_2 = [''.join(row) for row in cleaned_input]\n",
    "\n",
    "potential_records = 0\n",
    "time_limit = int(cleaned_input_2[0])\n",
    "curr_record = int(cleaned_input_2[1])\n",
    "for hold_time in range(time_limit):\n",
    "    distance = (time_limit - hold_time) * hold_time\n",
    "    if distance > curr_record:\n",
    "        potential_records += 1\n",
    "        \n",
    "potential_records"
   ]
  },
  {
   "cell_type": "code",
   "execution_count": null,
   "id": "8b9183c2-2c4b-4fa7-98e1-3722522ad14a",
   "metadata": {},
   "outputs": [],
   "source": []
  }
 ],
 "metadata": {
  "kernelspec": {
   "display_name": "Python 3 (ipykernel)",
   "language": "python",
   "name": "python3"
  },
  "language_info": {
   "codemirror_mode": {
    "name": "ipython",
    "version": 3
   },
   "file_extension": ".py",
   "mimetype": "text/x-python",
   "name": "python",
   "nbconvert_exporter": "python",
   "pygments_lexer": "ipython3",
   "version": "3.10.6"
  }
 },
 "nbformat": 4,
 "nbformat_minor": 5
}
